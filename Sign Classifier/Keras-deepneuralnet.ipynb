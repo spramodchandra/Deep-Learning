{
 "cells": [
  {
   "cell_type": "code",
   "execution_count": 1,
   "metadata": {},
   "outputs": [
    {
     "name": "stderr",
     "output_type": "stream",
     "text": [
      "Using TensorFlow backend.\n"
     ]
    }
   ],
   "source": [
    "import numpy as np\n",
    "import h5py\n",
    "from keras import layers\n",
    "from keras.layers import Input, Dense, Activation, BatchNormalization, Flatten, Conv2D, MaxPooling2D, ZeroPadding2D, Add, AveragePooling2D\n",
    "from keras.models import Model\n",
    "from keras.utils import to_categorical\n",
    "from keras import regularizers\n",
    "from keras.initializers import glorot_uniform\n",
    "import matplotlib.pyplot as plt "
   ]
  },
  {
   "cell_type": "code",
   "execution_count": 2,
   "metadata": {},
   "outputs": [],
   "source": [
    "def load_dataset():\n",
    "    train_dataset = h5py.File('datasets/train_signs.h5', \"r\")\n",
    "    train_set_x_orig = np.array(train_dataset[\"train_set_x\"][:])\n",
    "    train_set_y_orig = np.array(train_dataset[\"train_set_y\"][:])\n",
    "\n",
    "    test_dataset = h5py.File('datasets/test_signs.h5', \"r\")\n",
    "    test_set_x_orig = np.array(test_dataset[\"test_set_x\"][:])\n",
    "    test_set_y_orig = np.array(test_dataset[\"test_set_y\"][:])\n",
    "\n",
    "    classes = np.array(test_dataset[\"list_classes\"][:])\n",
    "    \n",
    "    train_set_y_orig = train_set_y_orig.reshape((1, train_set_y_orig.shape[0]))\n",
    "    test_set_y_orig = test_set_y_orig.reshape((1, test_set_y_orig.shape[0]))\n",
    "    \n",
    "    return train_set_x_orig, train_set_y_orig, test_set_x_orig, test_set_y_orig, classes"
   ]
  },
  {
   "cell_type": "code",
   "execution_count": 3,
   "metadata": {},
   "outputs": [],
   "source": [
    "X_train_orig, Y_train_orig, X_test_orig, Y_test_orig, classes = load_dataset()\n",
    "\n",
    "# Normalize image vectors\n",
    "X_train = X_train_orig/255.\n",
    "X_test = X_test_orig/255.\n",
    "\n",
    "# Reshape\n",
    "Y_train = to_categorical(Y_train_orig, num_classes=len(classes), dtype='float32').reshape((X_train.shape[0],len(classes)))\n",
    "Y_test = to_categorical(Y_test_orig, num_classes=len(classes), dtype='float32').reshape((X_test.shape[0],len(classes)))\n"
   ]
  },
  {
   "cell_type": "code",
   "execution_count": 17,
   "metadata": {},
   "outputs": [],
   "source": [
    "def identity_block(X, f, filters, stage, block):\n",
    "    conv_name_base = 'res' + str(stage) + block + '_branch'\n",
    "    bn_name_base = 'bn' + str(stage) + block + '_branch'\n",
    "    \n",
    "    F1, F2, F3 = filters\n",
    "    \n",
    "    X_shortcut = X\n",
    "    \n",
    "    X = Conv2D(filters = F1, kernel_size = (1, 1), strides = (1,1), padding = 'valid', name = conv_name_base + '2a', kernel_initializer = glorot_uniform(seed=0))(X)\n",
    "    X = BatchNormalization(axis = 3, name = bn_name_base + '2a')(X)\n",
    "    X = Activation('relu')(X)\n",
    "    \n",
    "    X = Conv2D(filters = F2, kernel_size = (f, f), strides = (1,1), padding = 'same', name = conv_name_base + '2b', kernel_initializer = glorot_uniform(seed=0))(X)\n",
    "    X = BatchNormalization(axis = 3, name = bn_name_base + '2b')(X)\n",
    "    X = Activation('relu')(X)\n",
    "\n",
    "    X = Conv2D(filters = F3, kernel_size = (1, 1), strides = (1,1), padding = 'valid', name = conv_name_base + '2c', kernel_initializer = glorot_uniform(seed=0))(X)\n",
    "    X = BatchNormalization(axis = 3, name = bn_name_base + '2c')(X)\n",
    "\n",
    "    X = Add()([X, X_shortcut])\n",
    "\n",
    "    X = Activation('relu')(X)\n",
    "    \n",
    "    return X"
   ]
  },
  {
   "cell_type": "code",
   "execution_count": 18,
   "metadata": {},
   "outputs": [],
   "source": [
    "def convolutional_block(X, f, filters, stage, block, s = 2):\n",
    "    conv_name_base = 'res' + str(stage) + block + '_branch'\n",
    "    bn_name_base = 'bn' + str(stage) + block + '_branch'\n",
    "    \n",
    "    F1, F2, F3 = filters\n",
    "    \n",
    "    X_shortcut = X\n",
    "\n",
    "    X = Conv2D(filters = F1, kernel_size = (1, 1), strides = (s,s), padding = 'valid', name = conv_name_base + '2a', kernel_initializer = glorot_uniform(seed=0))(X)\n",
    "    X = BatchNormalization(axis = 3, name = bn_name_base + '2a')(X)\n",
    "    X = Activation('relu')(X)\n",
    "    \n",
    "    X = Conv2D(filters = F2, kernel_size = (f, f), strides = (1,1), padding = 'same', name = conv_name_base + '2b', kernel_initializer = glorot_uniform(seed=0))(X)\n",
    "    X = BatchNormalization(axis = 3, name = bn_name_base + '2b')(X)\n",
    "    X = Activation('relu')(X)\n",
    "\n",
    "    X = Conv2D(filters = F3, kernel_size = (1, 1), strides = (1,1), padding = 'valid', name = conv_name_base + '2c', kernel_initializer = glorot_uniform(seed=0))(X)\n",
    "    X = BatchNormalization(axis = 3, name = bn_name_base + '2c')(X)\n",
    "\n",
    "    X_shortcut = Conv2D(filters = F3, kernel_size = (1, 1), strides = (s,s), padding = 'valid', name = conv_name_base + '1', kernel_initializer = glorot_uniform(seed=0))(X_shortcut)\n",
    "    X_shortcut = BatchNormalization(axis = 3, name = bn_name_base + '1')(X_shortcut)\n",
    "\n",
    "    X = Add()([X, X_shortcut])\n",
    "    X = Activation('relu')(X)\n",
    "    \n",
    "    return X"
   ]
  },
  {
   "cell_type": "code",
   "execution_count": 19,
   "metadata": {},
   "outputs": [],
   "source": [
    "def createModel(input_shape = (64, 64, 3), classes = 6):\n",
    "    X_input = Input(input_shape)\n",
    "\n",
    "    X = ZeroPadding2D((3, 3))(X_input)\n",
    "\n",
    "    X = Conv2D(64, (7, 7), strides = (2, 2), name = 'conv1', kernel_initializer = glorot_uniform(seed=0))(X)\n",
    "    X = BatchNormalization(axis = 3, name = 'bn_conv1')(X)\n",
    "    X = Activation('relu')(X)\n",
    "    X = MaxPooling2D((3, 3), strides=(2, 2))(X)\n",
    "\n",
    "    X = convolutional_block(X, f = 3, filters = [64, 64, 256], stage = 2, block='a', s = 1)\n",
    "    X = identity_block(X, 3, [64, 64, 256], stage=2, block='b')\n",
    "    X = identity_block(X, 3, [64, 64, 256], stage=2, block='c')\n",
    "\n",
    "    X = convolutional_block(X, f = 3, filters = [128,128,512], stage = 3, block='a', s = 2)\n",
    "    X = identity_block(X, 3, [128,128,512], stage=3, block='b')\n",
    "    X = identity_block(X, 3, [128,128,512], stage=3, block='c')\n",
    "    X = identity_block(X, 3, [128,128,512], stage=3, block='d')\n",
    "\n",
    "    X = convolutional_block(X, f = 3, filters = [256, 256, 1024], stage = 4, block='a', s = 2)\n",
    "    X = identity_block(X, 3, [256, 256, 1024], stage=4, block='b')\n",
    "    X = identity_block(X, 3, [256, 256, 1024], stage=4, block='c')\n",
    "    X = identity_block(X, 3, [256, 256, 1024], stage=4, block='d')\n",
    "    X = identity_block(X, 3, [256, 256, 1024], stage=4, block='e')\n",
    "    X = identity_block(X, 3, [256, 256, 1024], stage=4, block='f')\n",
    "\n",
    "    X = convolutional_block(X, f = 3, filters = [512, 512, 2048], stage = 5, block='a', s = 2)\n",
    "    X = identity_block(X, 3, [512, 512, 2048], stage=5, block='b')\n",
    "    X = identity_block(X, 3, [512, 512, 2048], stage=5, block='c')\n",
    "\n",
    "    X = AveragePooling2D(pool_size=(2,2),name = \"avg_pool\")(X)\n",
    "    \n",
    "    X = Flatten()(X)\n",
    "    X = Dense(classes, activation='softmax', name='fc' + str(classes), kernel_initializer = glorot_uniform(seed=0))(X)\n",
    "    \n",
    "    model = Model(inputs = X_input, outputs = X, name='ResNet50')\n",
    "\n",
    "    return model"
   ]
  },
  {
   "cell_type": "code",
   "execution_count": 20,
   "metadata": {},
   "outputs": [],
   "source": [
    "model = createModel(input_shape = (64, 64, 3), classes = 6)"
   ]
  },
  {
   "cell_type": "code",
   "execution_count": 21,
   "metadata": {},
   "outputs": [],
   "source": [
    "model.compile(optimizer='adam', loss='categorical_crossentropy', metrics=['accuracy'])"
   ]
  },
  {
   "cell_type": "code",
   "execution_count": 22,
   "metadata": {
    "scrolled": true
   },
   "outputs": [
    {
     "name": "stdout",
     "output_type": "stream",
     "text": [
      "Epoch 1/50\n",
      "1080/1080 [==============================] - 16s 15ms/step - loss: 2.0919 - acc: 0.4213\n",
      "Epoch 2/50\n",
      "1080/1080 [==============================] - 5s 5ms/step - loss: 0.6309 - acc: 0.7731\n",
      "Epoch 3/50\n",
      "1080/1080 [==============================] - 5s 5ms/step - loss: 0.3161 - acc: 0.8917\n",
      "Epoch 4/50\n",
      "1080/1080 [==============================] - 5s 5ms/step - loss: 0.3765 - acc: 0.8787\n",
      "Epoch 5/50\n",
      "1080/1080 [==============================] - 5s 5ms/step - loss: 0.1972 - acc: 0.9370\n",
      "Epoch 6/50\n",
      "1080/1080 [==============================] - 5s 5ms/step - loss: 0.0937 - acc: 0.9741\n",
      "Epoch 7/50\n",
      "1080/1080 [==============================] - 5s 5ms/step - loss: 0.0918 - acc: 0.9685\n",
      "Epoch 8/50\n",
      "1080/1080 [==============================] - 5s 5ms/step - loss: 1.1308 - acc: 0.7148\n",
      "Epoch 9/50\n",
      "1080/1080 [==============================] - 5s 5ms/step - loss: 0.4672 - acc: 0.8444\n",
      "Epoch 10/50\n",
      "1080/1080 [==============================] - 5s 5ms/step - loss: 0.2119 - acc: 0.9306\n",
      "Epoch 11/50\n",
      "1080/1080 [==============================] - 5s 5ms/step - loss: 0.7187 - acc: 0.8213\n",
      "Epoch 12/50\n",
      "1080/1080 [==============================] - 5s 5ms/step - loss: 0.6896 - acc: 0.7907\n",
      "Epoch 13/50\n",
      "1080/1080 [==============================] - 5s 5ms/step - loss: 0.7458 - acc: 0.7843\n",
      "Epoch 14/50\n",
      "1080/1080 [==============================] - 5s 5ms/step - loss: 0.6169 - acc: 0.8083\n",
      "Epoch 15/50\n",
      "1080/1080 [==============================] - 5s 5ms/step - loss: 0.2504 - acc: 0.9185\n",
      "Epoch 16/50\n",
      "1080/1080 [==============================] - 5s 5ms/step - loss: 0.1716 - acc: 0.9407\n",
      "Epoch 17/50\n",
      "1080/1080 [==============================] - 5s 5ms/step - loss: 0.4544 - acc: 0.8611\n",
      "Epoch 18/50\n",
      "1080/1080 [==============================] - 5s 5ms/step - loss: 0.2371 - acc: 0.9296\n",
      "Epoch 19/50\n",
      "1080/1080 [==============================] - 5s 5ms/step - loss: 0.2889 - acc: 0.9167\n",
      "Epoch 20/50\n",
      "1080/1080 [==============================] - 5s 5ms/step - loss: 0.0927 - acc: 0.9685\n",
      "Epoch 21/50\n",
      "1080/1080 [==============================] - 5s 5ms/step - loss: 0.0702 - acc: 0.9778\n",
      "Epoch 22/50\n",
      "1080/1080 [==============================] - 5s 5ms/step - loss: 0.0394 - acc: 0.9852\n",
      "Epoch 23/50\n",
      "1080/1080 [==============================] - 5s 5ms/step - loss: 0.0657 - acc: 0.9769\n",
      "Epoch 24/50\n",
      "1080/1080 [==============================] - 5s 5ms/step - loss: 0.0267 - acc: 0.9926\n",
      "Epoch 25/50\n",
      "1080/1080 [==============================] - 5s 5ms/step - loss: 0.0143 - acc: 0.9935\n",
      "Epoch 26/50\n",
      "1080/1080 [==============================] - 5s 5ms/step - loss: 0.0079 - acc: 0.9991\n",
      "Epoch 27/50\n",
      "1080/1080 [==============================] - 5s 5ms/step - loss: 0.0176 - acc: 0.9954\n",
      "Epoch 28/50\n",
      "1080/1080 [==============================] - 5s 5ms/step - loss: 0.0221 - acc: 0.9917\n",
      "Epoch 29/50\n",
      "1080/1080 [==============================] - 5s 5ms/step - loss: 0.0294 - acc: 0.9963\n",
      "Epoch 30/50\n",
      "1080/1080 [==============================] - 5s 5ms/step - loss: 0.0049 - acc: 0.9991\n",
      "Epoch 31/50\n",
      "1080/1080 [==============================] - 5s 5ms/step - loss: 0.0017 - acc: 1.0000\n",
      "Epoch 32/50\n",
      "1080/1080 [==============================] - 5s 5ms/step - loss: 0.0013 - acc: 1.0000\n",
      "Epoch 33/50\n",
      "1080/1080 [==============================] - 5s 5ms/step - loss: 0.0015 - acc: 1.0000\n",
      "Epoch 34/50\n",
      "1080/1080 [==============================] - 5s 5ms/step - loss: 0.0014 - acc: 1.0000\n",
      "Epoch 35/50\n",
      "1080/1080 [==============================] - 5s 5ms/step - loss: 0.0063 - acc: 0.9981\n",
      "Epoch 36/50\n",
      "1080/1080 [==============================] - 5s 5ms/step - loss: 0.0012 - acc: 1.0000\n",
      "Epoch 37/50\n",
      "1080/1080 [==============================] - 5s 5ms/step - loss: 0.0012 - acc: 1.0000\n",
      "Epoch 38/50\n",
      "1080/1080 [==============================] - 5s 5ms/step - loss: 7.6709e-04 - acc: 1.0000\n",
      "Epoch 39/50\n",
      "1080/1080 [==============================] - 5s 5ms/step - loss: 6.2869e-04 - acc: 1.0000\n",
      "Epoch 40/50\n",
      "1080/1080 [==============================] - 5s 5ms/step - loss: 5.3640e-04 - acc: 1.0000\n",
      "Epoch 41/50\n",
      "1080/1080 [==============================] - 5s 5ms/step - loss: 3.6203e-04 - acc: 1.0000\n",
      "Epoch 42/50\n",
      "1080/1080 [==============================] - 5s 5ms/step - loss: 0.0058 - acc: 0.9991\n",
      "Epoch 43/50\n",
      "1080/1080 [==============================] - 5s 5ms/step - loss: 0.0447 - acc: 0.9889\n",
      "Epoch 44/50\n",
      "1080/1080 [==============================] - 5s 5ms/step - loss: 0.1591 - acc: 0.9519\n",
      "Epoch 45/50\n",
      "1080/1080 [==============================] - 5s 5ms/step - loss: 0.2418 - acc: 0.9296\n",
      "Epoch 46/50\n",
      "1080/1080 [==============================] - 5s 5ms/step - loss: 0.0984 - acc: 0.9704\n",
      "Epoch 47/50\n",
      "1080/1080 [==============================] - 5s 5ms/step - loss: 0.0232 - acc: 0.9898\n",
      "Epoch 48/50\n",
      "1080/1080 [==============================] - 5s 5ms/step - loss: 0.0175 - acc: 0.9944\n",
      "Epoch 49/50\n",
      "1080/1080 [==============================] - 5s 5ms/step - loss: 0.0088 - acc: 0.9972\n",
      "Epoch 50/50\n",
      "1080/1080 [==============================] - 5s 5ms/step - loss: 0.0245 - acc: 0.9898\n"
     ]
    },
    {
     "data": {
      "text/plain": [
       "[<matplotlib.lines.Line2D at 0x1531e92a8d0>]"
      ]
     },
     "execution_count": 22,
     "metadata": {},
     "output_type": "execute_result"
    },
    {
     "data": {
      "image/png": "[encoded data removed]",
      "text/plain": [
       "<Figure size 432x288 with 1 Axes>"
      ]
     },
     "metadata": {},
     "output_type": "display_data"
    }
   ],
   "source": [
    "history = model.fit(X_train, Y_train, epochs = 50, batch_size = 32)\n",
    "plt.plot(history.history['loss'])"
   ]
  },
  {
   "cell_type": "code",
   "execution_count": 23,
   "metadata": {},
   "outputs": [
    {
     "name": "stdout",
     "output_type": "stream",
     "text": [
      "120/120 [==============================] - 1s 11ms/step\n",
      "Loss = 0.18186731437842052\n",
      "Test Accuracy = 0.9583333333333334\n"
     ]
    }
   ],
   "source": [
    "preds = model.evaluate(X_test, Y_test)\n",
    "print (\"Loss = \" + str(preds[0]))\n",
    "print (\"Test Accuracy = \" + str(preds[1]))"
   ]
  },
  {
   "cell_type": "code",
   "execution_count": null,
   "metadata": {},
   "outputs": [],
   "source": []
  },
  {
   "cell_type": "code",
   "execution_count": null,
   "metadata": {},
   "outputs": [],
   "source": []
  }
 ],
 "metadata": {
  "kernelspec": {
   "display_name": "Python 3",
   "language": "python",
   "name": "python3"
  },
  "language_info": {
   "codemirror_mode": {
    "name": "ipython",
    "version": 3
   },
   "file_extension": ".py",
   "mimetype": "text/x-python",
   "name": "python",
   "nbconvert_exporter": "python",
   "pygments_lexer": "ipython3",
   "version": "3.6.5"
  }
 },
 "nbformat": 4,
 "nbformat_minor": 2
}
